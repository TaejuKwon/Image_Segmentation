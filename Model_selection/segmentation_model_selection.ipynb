{
  "nbformat": 4,
  "nbformat_minor": 0,
  "metadata": {
    "colab": {
      "name": "segmentation_model_selection.ipynb",
      "provenance": [],
      "collapsed_sections": []
    },
    "kernelspec": {
      "name": "python3",
      "display_name": "Python 3"
    },
    "language_info": {
      "name": "python"
    },
    "accelerator": "GPU",
    "gpuClass": "standard"
  },
  "cells": [
    {
      "cell_type": "code",
      "execution_count": null,
      "metadata": {
        "colab": {
          "base_uri": "https://localhost:8080/"
        },
        "id": "vxzlqK7F3M1t",
        "outputId": "c9fccee5-bb84-4ad8-af88-347b2e21cc3e"
      },
      "outputs": [
        {
          "output_type": "stream",
          "name": "stdout",
          "text": [
            "Mounted at /content/drive\n"
          ]
        }
      ],
      "source": [
        "from google.colab import drive\n",
        "  drive.mount('/content/drive')"
      ]
    },
    {
      "cell_type": "code",
      "source": [
        "! pip install git+https://github.com/divamgupta/image-segmentation-keras"
      ],
      "metadata": {
        "colab": {
          "base_uri": "https://localhost:8080/"
        },
        "id": "vueAzrwr3kwL",
        "outputId": "e0bc992e-e248-44e1-a1ae-f4d7d143e608"
      },
      "execution_count": null,
      "outputs": [
        {
          "output_type": "stream",
          "name": "stdout",
          "text": [
            "Looking in indexes: https://pypi.org/simple, https://us-python.pkg.dev/colab-wheels/public/simple/\n",
            "Collecting git+https://github.com/divamgupta/image-segmentation-keras\n",
            "  Cloning https://github.com/divamgupta/image-segmentation-keras to /tmp/pip-req-build-f7eluvy9\n",
            "  Running command git clone -q https://github.com/divamgupta/image-segmentation-keras /tmp/pip-req-build-f7eluvy9\n",
            "Collecting h5py<=2.10.0\n",
            "  Downloading h5py-2.10.0-cp37-cp37m-manylinux1_x86_64.whl (2.9 MB)\n",
            "\u001b[K     |████████████████████████████████| 2.9 MB 6.0 MB/s \n",
            "\u001b[?25hRequirement already satisfied: Keras>=2.0.0 in /usr/local/lib/python3.7/dist-packages (from keras-segmentation==0.3.0) (2.8.0)\n",
            "Collecting imageio==2.5.0\n",
            "  Downloading imageio-2.5.0-py3-none-any.whl (3.3 MB)\n",
            "\u001b[K     |████████████████████████████████| 3.3 MB 52.9 MB/s \n",
            "\u001b[?25hCollecting imgaug>=0.4.0\n",
            "  Downloading imgaug-0.4.0-py2.py3-none-any.whl (948 kB)\n",
            "\u001b[K     |████████████████████████████████| 948 kB 58.3 MB/s \n",
            "\u001b[?25hRequirement already satisfied: opencv-python in /usr/local/lib/python3.7/dist-packages (from keras-segmentation==0.3.0) (4.1.2.30)\n",
            "Requirement already satisfied: tqdm in /usr/local/lib/python3.7/dist-packages (from keras-segmentation==0.3.0) (4.64.0)\n",
            "Requirement already satisfied: pillow in /usr/local/lib/python3.7/dist-packages (from imageio==2.5.0->keras-segmentation==0.3.0) (7.1.2)\n",
            "Requirement already satisfied: numpy in /usr/local/lib/python3.7/dist-packages (from imageio==2.5.0->keras-segmentation==0.3.0) (1.21.6)\n",
            "Requirement already satisfied: six in /usr/local/lib/python3.7/dist-packages (from h5py<=2.10.0->keras-segmentation==0.3.0) (1.15.0)\n",
            "Requirement already satisfied: matplotlib in /usr/local/lib/python3.7/dist-packages (from imgaug>=0.4.0->keras-segmentation==0.3.0) (3.2.2)\n",
            "Requirement already satisfied: Shapely in /usr/local/lib/python3.7/dist-packages (from imgaug>=0.4.0->keras-segmentation==0.3.0) (1.8.2)\n",
            "Requirement already satisfied: scipy in /usr/local/lib/python3.7/dist-packages (from imgaug>=0.4.0->keras-segmentation==0.3.0) (1.7.3)\n",
            "Requirement already satisfied: scikit-image>=0.14.2 in /usr/local/lib/python3.7/dist-packages (from imgaug>=0.4.0->keras-segmentation==0.3.0) (0.18.3)\n",
            "Requirement already satisfied: tifffile>=2019.7.26 in /usr/local/lib/python3.7/dist-packages (from scikit-image>=0.14.2->imgaug>=0.4.0->keras-segmentation==0.3.0) (2021.11.2)\n",
            "Requirement already satisfied: networkx>=2.0 in /usr/local/lib/python3.7/dist-packages (from scikit-image>=0.14.2->imgaug>=0.4.0->keras-segmentation==0.3.0) (2.6.3)\n",
            "Requirement already satisfied: PyWavelets>=1.1.1 in /usr/local/lib/python3.7/dist-packages (from scikit-image>=0.14.2->imgaug>=0.4.0->keras-segmentation==0.3.0) (1.3.0)\n",
            "Requirement already satisfied: cycler>=0.10 in /usr/local/lib/python3.7/dist-packages (from matplotlib->imgaug>=0.4.0->keras-segmentation==0.3.0) (0.11.0)\n",
            "Requirement already satisfied: pyparsing!=2.0.4,!=2.1.2,!=2.1.6,>=2.0.1 in /usr/local/lib/python3.7/dist-packages (from matplotlib->imgaug>=0.4.0->keras-segmentation==0.3.0) (3.0.9)\n",
            "Requirement already satisfied: python-dateutil>=2.1 in /usr/local/lib/python3.7/dist-packages (from matplotlib->imgaug>=0.4.0->keras-segmentation==0.3.0) (2.8.2)\n",
            "Requirement already satisfied: kiwisolver>=1.0.1 in /usr/local/lib/python3.7/dist-packages (from matplotlib->imgaug>=0.4.0->keras-segmentation==0.3.0) (1.4.3)\n",
            "Requirement already satisfied: typing-extensions in /usr/local/lib/python3.7/dist-packages (from kiwisolver>=1.0.1->matplotlib->imgaug>=0.4.0->keras-segmentation==0.3.0) (4.1.1)\n",
            "Building wheels for collected packages: keras-segmentation\n",
            "  Building wheel for keras-segmentation (setup.py) ... \u001b[?25l\u001b[?25hdone\n",
            "  Created wheel for keras-segmentation: filename=keras_segmentation-0.3.0-py3-none-any.whl size=34604 sha256=5f779fce4bd651376b7a05b84ec68151715edb2b63d1bea97410bd6c16b3af6c\n",
            "  Stored in directory: /tmp/pip-ephem-wheel-cache-7ben3cgo/wheels/78/73/a2/4ee9fce73985dcc4f889d3d012a4461d58254d0de99197af00\n",
            "Successfully built keras-segmentation\n",
            "Installing collected packages: imageio, imgaug, h5py, keras-segmentation\n",
            "  Attempting uninstall: imageio\n",
            "    Found existing installation: imageio 2.4.1\n",
            "    Uninstalling imageio-2.4.1:\n",
            "      Successfully uninstalled imageio-2.4.1\n",
            "  Attempting uninstall: imgaug\n",
            "    Found existing installation: imgaug 0.2.9\n",
            "    Uninstalling imgaug-0.2.9:\n",
            "      Successfully uninstalled imgaug-0.2.9\n",
            "  Attempting uninstall: h5py\n",
            "    Found existing installation: h5py 3.1.0\n",
            "    Uninstalling h5py-3.1.0:\n",
            "      Successfully uninstalled h5py-3.1.0\n",
            "\u001b[31mERROR: pip's dependency resolver does not currently take into account all the packages that are installed. This behaviour is the source of the following dependency conflicts.\n",
            "albumentations 0.1.12 requires imgaug<0.2.7,>=0.2.5, but you have imgaug 0.4.0 which is incompatible.\u001b[0m\n",
            "Successfully installed h5py-2.10.0 imageio-2.5.0 imgaug-0.4.0 keras-segmentation-0.3.0\n"
          ]
        }
      ]
    },
    {
      "cell_type": "code",
      "source": [
        "! wget https://github.com/divamgupta/datasets/releases/download/seg/dataset1.zip && unzip dataset1.zip"
      ],
      "metadata": {
        "id": "WI8-lOj434vh"
      },
      "execution_count": null,
      "outputs": []
    },
    {
      "cell_type": "code",
      "source": [
        "from keras_segmentation.models.fcn import fcn_8_vgg\n",
        "\n",
        "model = fcn_8_vgg(n_classes=50 ,  input_height=320, input_width=640  )"
      ],
      "metadata": {
        "id": "vcKNBl0C4OTA"
      },
      "execution_count": 7,
      "outputs": []
    },
    {
      "cell_type": "code",
      "source": [
        "model.train(\n",
        "    # train_images =  \"/content/drive/MyDrive/LABis/dataset/train/images/\",\n",
        "    # train_annotations = \"/content/drive/MyDrive/LABis/dataset/train/annotations/\",\n",
        "    train_images =  \"/content/drive/MyDrive/LABis/dataset1/images_prepped_train\",\n",
        "    train_annotations = \"/content/drive/MyDrive/LABis/dataset1/annotations_prepped_train\",\n",
        "    checkpoints_path = \"/content/drive/MyDrive/LABis/checkpoints\" , epochs = 10\n",
        ")"
      ],
      "metadata": {
        "colab": {
          "base_uri": "https://localhost:8080/"
        },
        "id": "XrDKzpT-4XM7",
        "outputId": "c82ad596-be1a-4752-e19e-0ac2318c503b"
      },
      "execution_count": 8,
      "outputs": [
        {
          "output_type": "stream",
          "name": "stdout",
          "text": [
            "Verifying training dataset\n"
          ]
        },
        {
          "output_type": "stream",
          "name": "stderr",
          "text": [
            "100%|██████████| 367/367 [00:04<00:00, 80.72it/s]\n"
          ]
        },
        {
          "output_type": "stream",
          "name": "stdout",
          "text": [
            "Dataset verified! \n",
            "Epoch 1/10\n",
            "512/512 [==============================] - ETA: 0s - loss: 1.9372 - accuracy: 0.5433\n",
            "Epoch 1: saving model to /content/drive/MyDrive/LABis/checkpoints.00001\n",
            "512/512 [==============================] - 255s 491ms/step - loss: 1.9372 - accuracy: 0.5433\n",
            "Epoch 2/10\n",
            "512/512 [==============================] - ETA: 0s - loss: 1.1616 - accuracy: 0.5990\n",
            "Epoch 2: saving model to /content/drive/MyDrive/LABis/checkpoints.00002\n",
            "512/512 [==============================] - 255s 498ms/step - loss: 1.1616 - accuracy: 0.5990\n",
            "Epoch 3/10\n",
            "512/512 [==============================] - ETA: 0s - loss: 1.1530 - accuracy: 0.5975\n",
            "Epoch 3: saving model to /content/drive/MyDrive/LABis/checkpoints.00003\n",
            "512/512 [==============================] - 255s 497ms/step - loss: 1.1530 - accuracy: 0.5975\n",
            "Epoch 4/10\n",
            "512/512 [==============================] - ETA: 0s - loss: 1.1425 - accuracy: 0.6012\n",
            "Epoch 4: saving model to /content/drive/MyDrive/LABis/checkpoints.00004\n",
            "512/512 [==============================] - 255s 497ms/step - loss: 1.1425 - accuracy: 0.6012\n",
            "Epoch 5/10\n",
            "512/512 [==============================] - ETA: 0s - loss: 1.1310 - accuracy: 0.6031\n",
            "Epoch 5: saving model to /content/drive/MyDrive/LABis/checkpoints.00005\n",
            "512/512 [==============================] - 253s 493ms/step - loss: 1.1310 - accuracy: 0.6031\n",
            "Epoch 6/10\n",
            "512/512 [==============================] - ETA: 0s - loss: 1.1280 - accuracy: 0.6033\n",
            "Epoch 6: saving model to /content/drive/MyDrive/LABis/checkpoints.00006\n",
            "512/512 [==============================] - 255s 497ms/step - loss: 1.1280 - accuracy: 0.6033\n",
            "Epoch 7/10\n",
            "512/512 [==============================] - ETA: 0s - loss: 1.1228 - accuracy: 0.6040\n",
            "Epoch 7: saving model to /content/drive/MyDrive/LABis/checkpoints.00007\n",
            "512/512 [==============================] - 253s 494ms/step - loss: 1.1228 - accuracy: 0.6040\n",
            "Epoch 8/10\n",
            "512/512 [==============================] - ETA: 0s - loss: 1.1240 - accuracy: 0.6024\n",
            "Epoch 8: saving model to /content/drive/MyDrive/LABis/checkpoints.00008\n",
            "512/512 [==============================] - 256s 499ms/step - loss: 1.1240 - accuracy: 0.6024\n",
            "Epoch 9/10\n",
            "512/512 [==============================] - ETA: 0s - loss: 1.1136 - accuracy: 0.6058\n",
            "Epoch 9: saving model to /content/drive/MyDrive/LABis/checkpoints.00009\n",
            "512/512 [==============================] - 254s 495ms/step - loss: 1.1136 - accuracy: 0.6058\n",
            "Epoch 10/10\n",
            "512/512 [==============================] - ETA: 0s - loss: 1.1134 - accuracy: 0.6053\n",
            "Epoch 10: saving model to /content/drive/MyDrive/LABis/checkpoints.00010\n",
            "512/512 [==============================] - 252s 492ms/step - loss: 1.1134 - accuracy: 0.6053\n"
          ]
        }
      ]
    },
    {
      "cell_type": "code",
      "source": [
        "!python -m keras_segmentation evaluate_model \\\n",
        " --checkpoints_path=\"/content/drive/MyDrive/LABis/checkpoints\"\\\n",
        " --images_path=\"/content/drive/MyDrive/LABis/dataset1/images_prepped_test/\" \\\n",
        " --segs_path=\"/content/drive/MyDrive/LABis/dataset1/annotations_prepped_test\""
      ],
      "metadata": {
        "id": "9LUZKBxl4lwG",
        "colab": {
          "base_uri": "https://localhost:8080/"
        },
        "outputId": "78f9c8ea-0f20-48c0-9526-c066158a15c6"
      },
      "execution_count": 12,
      "outputs": [
        {
          "output_type": "stream",
          "name": "stdout",
          "text": [
            "2022-07-16 08:24:42.640409: W tensorflow/core/common_runtime/gpu/gpu_bfc_allocator.cc:39] Overriding allow_growth setting because the TF_FORCE_GPU_ALLOW_GROWTH environment variable is set. Original config value was 0.\n",
            "loaded weights  /content/drive/MyDrive/LABis/checkpoints.00010\n",
            "2022-07-16 08:24:43.601430: W tensorflow/core/framework/cpu_allocator_impl.cc:82] Allocation of 411041792 exceeds 10% of free system memory.\n",
            "2022-07-16 08:24:43.837845: W tensorflow/core/framework/cpu_allocator_impl.cc:82] Allocation of 67108864 exceeds 10% of free system memory.\n",
            "0it [00:00, ?it/s]2022-07-16 08:24:50.453395: W tensorflow/core/common_runtime/bfc_allocator.cc:343] Garbage collection: deallocate free memory regions (i.e., allocations) so that we can re-allocate a larger region to avoid OOM due to memory fragmentation. If you see this message frequently, you are running near the threshold of the available device memory and re-allocation may incur great performance overhead. You may try smaller batch sizes to observe the performance impact. Set TF_ENABLE_GPU_GARBAGE_COLLECTION=false if you'd like to disable this feature.\n",
            "2022-07-16 08:24:52.981976: W tensorflow/core/framework/cpu_allocator_impl.cc:82] Allocation of 42508800 exceeds 10% of free system memory.\n",
            "1it [00:11, 11.68s/it]2022-07-16 08:24:57.245365: W tensorflow/core/framework/cpu_allocator_impl.cc:82] Allocation of 42508800 exceeds 10% of free system memory.\n",
            "2it [00:13,  5.65s/it]2022-07-16 08:24:58.040677: W tensorflow/core/framework/cpu_allocator_impl.cc:82] Allocation of 42508800 exceeds 10% of free system memory.\n",
            "101it [01:34,  1.07it/s]\n",
            "{'frequency_weighted_IU': 0.3388242232458346, 'mean_IU': 0.030725011834226844, 'class_wise_IU': array([0.37980265, 0.39940942, 0.        , 0.68928996, 0.        ,\n",
            "       0.        , 0.        , 0.        , 0.06774856, 0.        ,\n",
            "       0.        , 0.        , 0.        , 0.        , 0.        ,\n",
            "       0.        , 0.        , 0.        , 0.        , 0.        ,\n",
            "       0.        , 0.        , 0.        , 0.        , 0.        ,\n",
            "       0.        , 0.        , 0.        , 0.        , 0.        ,\n",
            "       0.        , 0.        , 0.        , 0.        , 0.        ,\n",
            "       0.        , 0.        , 0.        , 0.        , 0.        ,\n",
            "       0.        , 0.        , 0.        , 0.        , 0.        ,\n",
            "       0.        , 0.        , 0.        , 0.        , 0.        ])}\n"
          ]
        }
      ]
    },
    {
      "cell_type": "code",
      "source": [
        "from keras_segmentation.models.fcn import fcn_32_vgg\n",
        "\n",
        "model = fcn_32_vgg(n_classes=50 ,  input_height=320, input_width=640  )"
      ],
      "metadata": {
        "id": "6aX9wW0ZHc9u"
      },
      "execution_count": 13,
      "outputs": []
    },
    {
      "cell_type": "code",
      "source": [
        "model.train(\n",
        "    # train_images =  \"/content/drive/MyDrive/LABis/dataset/train/images/\",\n",
        "    # train_annotations = \"/content/drive/MyDrive/LABis/dataset/train/annotations/\",\n",
        "    train_images =  \"/content/drive/MyDrive/LABis/dataset1/images_prepped_train\",\n",
        "    train_annotations = \"/content/drive/MyDrive/LABis/dataset1/annotations_prepped_train\",\n",
        "    checkpoints_path = \"/content/drive/MyDrive/LABis/checkpoints/fcn32/fcn32\" , epochs = 10\n",
        ")"
      ],
      "metadata": {
        "colab": {
          "base_uri": "https://localhost:8080/"
        },
        "id": "-URupoygHnH3",
        "outputId": "f51c6722-e5c8-48a1-e2ff-18d0ee67b5f0"
      },
      "execution_count": 14,
      "outputs": [
        {
          "output_type": "stream",
          "name": "stdout",
          "text": [
            "Verifying training dataset\n"
          ]
        },
        {
          "output_type": "stream",
          "name": "stderr",
          "text": [
            "100%|██████████| 367/367 [00:05<00:00, 61.75it/s]\n"
          ]
        },
        {
          "output_type": "stream",
          "name": "stdout",
          "text": [
            "Dataset verified! \n",
            "Epoch 1/10\n",
            "512/512 [==============================] - ETA: 0s - loss: 1.2022 - accuracy: 0.6507\n",
            "Epoch 1: saving model to /content/drive/MyDrive/LABis/checkpoints/fcn32/fcn32.00001\n",
            "512/512 [==============================] - 285s 531ms/step - loss: 1.2022 - accuracy: 0.6507\n",
            "Epoch 2/10\n",
            "512/512 [==============================] - ETA: 0s - loss: 0.7329 - accuracy: 0.7693\n",
            "Epoch 2: saving model to /content/drive/MyDrive/LABis/checkpoints/fcn32/fcn32.00002\n",
            "512/512 [==============================] - 276s 539ms/step - loss: 0.7329 - accuracy: 0.7693\n",
            "Epoch 3/10\n",
            "512/512 [==============================] - ETA: 0s - loss: 0.5819 - accuracy: 0.8172\n",
            "Epoch 3: saving model to /content/drive/MyDrive/LABis/checkpoints/fcn32/fcn32.00003\n",
            "512/512 [==============================] - 275s 537ms/step - loss: 0.5819 - accuracy: 0.8172\n",
            "Epoch 4/10\n",
            "512/512 [==============================] - ETA: 0s - loss: 0.5470 - accuracy: 0.8288\n",
            "Epoch 4: saving model to /content/drive/MyDrive/LABis/checkpoints/fcn32/fcn32.00004\n",
            "512/512 [==============================] - 275s 537ms/step - loss: 0.5470 - accuracy: 0.8288\n",
            "Epoch 5/10\n",
            "512/512 [==============================] - ETA: 0s - loss: 0.4445 - accuracy: 0.8575\n",
            "Epoch 5: saving model to /content/drive/MyDrive/LABis/checkpoints/fcn32/fcn32.00005\n",
            "512/512 [==============================] - 275s 538ms/step - loss: 0.4445 - accuracy: 0.8575\n",
            "Epoch 6/10\n",
            "512/512 [==============================] - ETA: 0s - loss: 0.4010 - accuracy: 0.8697\n",
            "Epoch 6: saving model to /content/drive/MyDrive/LABis/checkpoints/fcn32/fcn32.00006\n",
            "512/512 [==============================] - 275s 537ms/step - loss: 0.4010 - accuracy: 0.8697\n",
            "Epoch 7/10\n",
            "512/512 [==============================] - ETA: 0s - loss: 0.3522 - accuracy: 0.8841\n",
            "Epoch 7: saving model to /content/drive/MyDrive/LABis/checkpoints/fcn32/fcn32.00007\n",
            "512/512 [==============================] - 276s 538ms/step - loss: 0.3522 - accuracy: 0.8841\n",
            "Epoch 8/10\n",
            "512/512 [==============================] - ETA: 0s - loss: 0.3360 - accuracy: 0.8882\n",
            "Epoch 8: saving model to /content/drive/MyDrive/LABis/checkpoints/fcn32/fcn32.00008\n",
            "512/512 [==============================] - 274s 536ms/step - loss: 0.3360 - accuracy: 0.8882\n",
            "Epoch 9/10\n",
            "512/512 [==============================] - ETA: 0s - loss: 0.3137 - accuracy: 0.8947\n",
            "Epoch 9: saving model to /content/drive/MyDrive/LABis/checkpoints/fcn32/fcn32.00009\n",
            "512/512 [==============================] - 274s 535ms/step - loss: 0.3137 - accuracy: 0.8947\n",
            "Epoch 10/10\n",
            "512/512 [==============================] - ETA: 0s - loss: 0.2874 - accuracy: 0.9028\n",
            "Epoch 10: saving model to /content/drive/MyDrive/LABis/checkpoints/fcn32/fcn32.00010\n",
            "512/512 [==============================] - 275s 538ms/step - loss: 0.2874 - accuracy: 0.9028\n"
          ]
        }
      ]
    },
    {
      "cell_type": "code",
      "source": [
        "!python -m keras_segmentation evaluate_model \\\n",
        " --checkpoints_path=\"/content/drive/MyDrive/LABis/checkpoints/fcn32/fcn32\"\\\n",
        " --images_path=\"/content/drive/MyDrive/LABis/dataset1/images_prepped_test/\" \\\n",
        " --segs_path=\"/content/drive/MyDrive/LABis/dataset1/annotations_prepped_test\""
      ],
      "metadata": {
        "colab": {
          "base_uri": "https://localhost:8080/"
        },
        "id": "pTNX3KJrJZtc",
        "outputId": "27149f39-c695-4999-a375-fb67f5f0f4ee"
      },
      "execution_count": 15,
      "outputs": [
        {
          "output_type": "stream",
          "name": "stdout",
          "text": [
            "2022-07-16 09:14:10.737398: W tensorflow/core/common_runtime/gpu/gpu_bfc_allocator.cc:39] Overriding allow_growth setting because the TF_FORCE_GPU_ALLOW_GROWTH environment variable is set. Original config value was 0.\n",
            "loaded weights  /content/drive/MyDrive/LABis/checkpoints/fcn32/fcn32.00010\n",
            "2022-07-16 09:14:11.644488: W tensorflow/core/framework/cpu_allocator_impl.cc:82] Allocation of 411041792 exceeds 10% of free system memory.\n",
            "2022-07-16 09:14:11.797130: W tensorflow/core/framework/cpu_allocator_impl.cc:82] Allocation of 67108864 exceeds 10% of free system memory.\n",
            "2022-07-16 09:14:12.155425: W tensorflow/core/framework/cpu_allocator_impl.cc:82] Allocation of 40960000 exceeds 10% of free system memory.\n",
            "0it [00:00, ?it/s]2022-07-16 09:14:27.347076: W tensorflow/core/common_runtime/bfc_allocator.cc:343] Garbage collection: deallocate free memory regions (i.e., allocations) so that we can re-allocate a larger region to avoid OOM due to memory fragmentation. If you see this message frequently, you are running near the threshold of the available device memory and re-allocation may incur great performance overhead. You may try smaller batch sizes to observe the performance impact. Set TF_ENABLE_GPU_GARBAGE_COLLECTION=false if you'd like to disable this feature.\n",
            "2022-07-16 09:14:35.999277: W tensorflow/core/framework/cpu_allocator_impl.cc:82] Allocation of 47308800 exceeds 10% of free system memory.\n",
            "1it [00:42, 42.32s/it]2022-07-16 09:14:56.209661: W tensorflow/core/framework/cpu_allocator_impl.cc:82] Allocation of 47308800 exceeds 10% of free system memory.\n",
            "101it [02:01,  1.20s/it]\n",
            "{'frequency_weighted_IU': 0.7677868200493915, 'mean_IU': 0.10327125789981688, 'class_wise_IU': array([0.84916135, 0.76411192, 0.        , 0.92086871, 0.75220272,\n",
            "       0.82510792, 0.00395327, 0.46734138, 0.41236817, 0.01458526,\n",
            "       0.03524732, 0.11861487, 0.        , 0.        , 0.        ,\n",
            "       0.        , 0.        , 0.        , 0.        , 0.        ,\n",
            "       0.        , 0.        , 0.        , 0.        , 0.        ,\n",
            "       0.        , 0.        , 0.        , 0.        , 0.        ,\n",
            "       0.        , 0.        , 0.        , 0.        , 0.        ,\n",
            "       0.        , 0.        , 0.        , 0.        , 0.        ,\n",
            "       0.        , 0.        , 0.        , 0.        , 0.        ,\n",
            "       0.        , 0.        , 0.        , 0.        , 0.        ])}\n"
          ]
        }
      ]
    },
    {
      "cell_type": "code",
      "source": [
        "from keras_segmentation.models.pspnet import vgg_pspnet\n",
        "\n",
        "model = vgg_pspnet(n_classes=50 ,  input_height=384, input_width=576  )"
      ],
      "metadata": {
        "id": "MgbFBiIzXKG0"
      },
      "execution_count": 18,
      "outputs": []
    },
    {
      "cell_type": "code",
      "source": [
        "model.train(\n",
        "    # train_images =  \"/content/drive/MyDrive/LABis/dataset/train/images/\",\n",
        "    # train_annotations = \"/content/drive/MyDrive/LABis/dataset/train/annotations/\",\n",
        "    train_images =  \"/content/drive/MyDrive/LABis/dataset1/images_prepped_train\",\n",
        "    train_annotations = \"/content/drive/MyDrive/LABis/dataset1/annotations_prepped_train\",\n",
        "    checkpoints_path = \"/content/drive/MyDrive/LABis/checkpoints/fcn32/fcn32\" , epochs = 10\n",
        ")"
      ],
      "metadata": {
        "colab": {
          "base_uri": "https://localhost:8080/"
        },
        "id": "GbrvK1gcXXe4",
        "outputId": "84d3a3c1-2a78-42dc-bc2b-f02fe0742a62"
      },
      "execution_count": 19,
      "outputs": [
        {
          "output_type": "stream",
          "name": "stdout",
          "text": [
            "Verifying training dataset\n"
          ]
        },
        {
          "output_type": "stream",
          "name": "stderr",
          "text": [
            "100%|██████████| 367/367 [00:06<00:00, 59.17it/s]\n"
          ]
        },
        {
          "output_type": "stream",
          "name": "stdout",
          "text": [
            "Dataset verified! \n",
            "Epoch 1/10\n",
            "512/512 [==============================] - ETA: 0s - loss: 0.9576 - accuracy: 0.6854\n",
            "Epoch 1: saving model to /content/drive/MyDrive/LABis/checkpoints/fcn32/fcn32.00001\n",
            "512/512 [==============================] - 83s 152ms/step - loss: 0.9576 - accuracy: 0.6854\n",
            "Epoch 2/10\n",
            "512/512 [==============================] - ETA: 0s - loss: 0.7186 - accuracy: 0.7713\n",
            "Epoch 2: saving model to /content/drive/MyDrive/LABis/checkpoints/fcn32/fcn32.00002\n",
            "512/512 [==============================] - 78s 153ms/step - loss: 0.7186 - accuracy: 0.7713\n",
            "Epoch 3/10\n",
            "512/512 [==============================] - ETA: 0s - loss: 0.6035 - accuracy: 0.8112\n",
            "Epoch 3: saving model to /content/drive/MyDrive/LABis/checkpoints/fcn32/fcn32.00003\n",
            "512/512 [==============================] - 78s 153ms/step - loss: 0.6035 - accuracy: 0.8112\n",
            "Epoch 4/10\n",
            "512/512 [==============================] - ETA: 0s - loss: 0.5273 - accuracy: 0.8332\n",
            "Epoch 4: saving model to /content/drive/MyDrive/LABis/checkpoints/fcn32/fcn32.00004\n",
            "512/512 [==============================] - 78s 153ms/step - loss: 0.5273 - accuracy: 0.8332\n",
            "Epoch 5/10\n",
            "512/512 [==============================] - ETA: 0s - loss: 0.4750 - accuracy: 0.8484\n",
            "Epoch 5: saving model to /content/drive/MyDrive/LABis/checkpoints/fcn32/fcn32.00005\n",
            "512/512 [==============================] - 78s 153ms/step - loss: 0.4750 - accuracy: 0.8484\n",
            "Epoch 6/10\n",
            "512/512 [==============================] - ETA: 0s - loss: 0.4268 - accuracy: 0.8630\n",
            "Epoch 6: saving model to /content/drive/MyDrive/LABis/checkpoints/fcn32/fcn32.00006\n",
            "512/512 [==============================] - 78s 152ms/step - loss: 0.4268 - accuracy: 0.8630\n",
            "Epoch 7/10\n",
            "512/512 [==============================] - ETA: 0s - loss: 0.3926 - accuracy: 0.8724\n",
            "Epoch 7: saving model to /content/drive/MyDrive/LABis/checkpoints/fcn32/fcn32.00007\n",
            "512/512 [==============================] - 78s 152ms/step - loss: 0.3926 - accuracy: 0.8724\n",
            "Epoch 8/10\n",
            "512/512 [==============================] - ETA: 0s - loss: 0.3533 - accuracy: 0.8846\n",
            "Epoch 8: saving model to /content/drive/MyDrive/LABis/checkpoints/fcn32/fcn32.00008\n",
            "512/512 [==============================] - 78s 152ms/step - loss: 0.3533 - accuracy: 0.8846\n",
            "Epoch 9/10\n",
            "512/512 [==============================] - ETA: 0s - loss: 0.3380 - accuracy: 0.8890\n",
            "Epoch 9: saving model to /content/drive/MyDrive/LABis/checkpoints/fcn32/fcn32.00009\n",
            "512/512 [==============================] - 78s 152ms/step - loss: 0.3380 - accuracy: 0.8890\n",
            "Epoch 10/10\n",
            "512/512 [==============================] - ETA: 0s - loss: 0.3216 - accuracy: 0.8936\n",
            "Epoch 10: saving model to /content/drive/MyDrive/LABis/checkpoints/fcn32/fcn32.00010\n",
            "512/512 [==============================] - 79s 154ms/step - loss: 0.3216 - accuracy: 0.8936\n"
          ]
        }
      ]
    },
    {
      "cell_type": "code",
      "source": [
        "!python -m keras_segmentation evaluate_model \\\n",
        " --checkpoints_path=\"/content/drive/MyDrive/LABis/checkpoints/fcn32/fcn32\"\\\n",
        " --images_path=\"/content/drive/MyDrive/LABis/dataset1/images_prepped_test/\" \\\n",
        " --segs_path=\"/content/drive/MyDrive/LABis/dataset1/annotations_prepped_test\""
      ],
      "metadata": {
        "colab": {
          "base_uri": "https://localhost:8080/"
        },
        "id": "mILxwfEua_6a",
        "outputId": "5f43093c-c8e9-47c4-8e00-11901fcfe26f"
      },
      "execution_count": 20,
      "outputs": [
        {
          "output_type": "stream",
          "name": "stdout",
          "text": [
            "2022-07-16 09:52:44.210935: W tensorflow/core/common_runtime/gpu/gpu_bfc_allocator.cc:39] Overriding allow_growth setting because the TF_FORCE_GPU_ALLOW_GROWTH environment variable is set. Original config value was 0.\n",
            "loaded weights  /content/drive/MyDrive/LABis/checkpoints/fcn32/fcn32.00010\n",
            "0it [00:00, ?it/s]2022-07-16 09:52:48.950649: W tensorflow/core/common_runtime/bfc_allocator.cc:275] Allocator (GPU_0_bfc) ran out of memory trying to allocate 2.00GiB with freed_by_count=0. The caller indicates that this is not a failure, but may mean that there could be performance gains if more memory were available.\n",
            "2022-07-16 09:52:48.950726: W tensorflow/core/common_runtime/bfc_allocator.cc:275] Allocator (GPU_0_bfc) ran out of memory trying to allocate 2.00GiB with freed_by_count=0. The caller indicates that this is not a failure, but may mean that there could be performance gains if more memory were available.\n",
            "2022-07-16 09:52:50.754282: W tensorflow/core/common_runtime/bfc_allocator.cc:275] Allocator (GPU_0_bfc) ran out of memory trying to allocate 3.81GiB with freed_by_count=0. The caller indicates that this is not a failure, but may mean that there could be performance gains if more memory were available.\n",
            "2022-07-16 09:52:50.754369: W tensorflow/core/common_runtime/bfc_allocator.cc:275] Allocator (GPU_0_bfc) ran out of memory trying to allocate 3.81GiB with freed_by_count=0. The caller indicates that this is not a failure, but may mean that there could be performance gains if more memory were available.\n",
            "2022-07-16 09:52:50.856060: W tensorflow/core/common_runtime/bfc_allocator.cc:275] Allocator (GPU_0_bfc) ran out of memory trying to allocate 1.44GiB with freed_by_count=0. The caller indicates that this is not a failure, but may mean that there could be performance gains if more memory were available.\n",
            "2022-07-16 09:52:50.856129: W tensorflow/core/common_runtime/bfc_allocator.cc:275] Allocator (GPU_0_bfc) ran out of memory trying to allocate 1.44GiB with freed_by_count=0. The caller indicates that this is not a failure, but may mean that there could be performance gains if more memory were available.\n",
            "2022-07-16 09:52:51.039637: W tensorflow/core/common_runtime/bfc_allocator.cc:275] Allocator (GPU_0_bfc) ran out of memory trying to allocate 1.92GiB with freed_by_count=0. The caller indicates that this is not a failure, but may mean that there could be performance gains if more memory were available.\n",
            "2022-07-16 09:52:51.039717: W tensorflow/core/common_runtime/bfc_allocator.cc:275] Allocator (GPU_0_bfc) ran out of memory trying to allocate 1.92GiB with freed_by_count=0. The caller indicates that this is not a failure, but may mean that there could be performance gains if more memory were available.\n",
            "2022-07-16 09:52:51.129858: W tensorflow/core/common_runtime/bfc_allocator.cc:343] Garbage collection: deallocate free memory regions (i.e., allocations) so that we can re-allocate a larger region to avoid OOM due to memory fragmentation. If you see this message frequently, you are running near the threshold of the available device memory and re-allocation may incur great performance overhead. You may try smaller batch sizes to observe the performance impact. Set TF_ENABLE_GPU_GARBAGE_COLLECTION=false if you'd like to disable this feature.\n",
            "2022-07-16 09:52:51.620541: W tensorflow/core/common_runtime/bfc_allocator.cc:343] Garbage collection: deallocate free memory regions (i.e., allocations) so that we can re-allocate a larger region to avoid OOM due to memory fragmentation. If you see this message frequently, you are running near the threshold of the available device memory and re-allocation may incur great performance overhead. You may try smaller batch sizes to observe the performance impact. Set TF_ENABLE_GPU_GARBAGE_COLLECTION=false if you'd like to disable this feature.\n",
            "101it [00:19,  5.09it/s]\n",
            "{'frequency_weighted_IU': 0.7646659707672939, 'mean_IU': 0.1083535167487889, 'class_wise_IU': array([0.89765166, 0.748513  , 0.00763359, 0.91868479, 0.7562621 ,\n",
            "       0.79703266, 0.0825506 , 0.27472527, 0.55415278, 0.01339181,\n",
            "       0.17866651, 0.18841106, 0.        , 0.        , 0.        ,\n",
            "       0.        , 0.        , 0.        , 0.        , 0.        ,\n",
            "       0.        , 0.        , 0.        , 0.        , 0.        ,\n",
            "       0.        , 0.        , 0.        , 0.        , 0.        ,\n",
            "       0.        , 0.        , 0.        , 0.        , 0.        ,\n",
            "       0.        , 0.        , 0.        , 0.        , 0.        ,\n",
            "       0.        , 0.        , 0.        , 0.        , 0.        ,\n",
            "       0.        , 0.        , 0.        , 0.        , 0.        ])}\n"
          ]
        }
      ]
    },
    {
      "cell_type": "markdown",
      "source": [
        "# **Conclusion**"
      ],
      "metadata": {
        "id": "cO9WTms7bdGr"
      }
    },
    {
      "cell_type": "markdown",
      "source": [
        "Base model: **vgg** \\\\\n",
        "Evaluation method: **frequency weighted IU** \\\\\n",
        "vgg_FCN8 -> 0.3388242232458346 \\\\\n",
        "vgg_FCN32 -> 0.7677868200493915 \\\\\n",
        "vgg_PSPnet -> 0.7646659707672939"
      ],
      "metadata": {
        "id": "_reT2jhHbgZt"
      }
    }
  ]
}